{
 "cells": [
  {
   "cell_type": "markdown",
   "id": "1bb8be4c",
   "metadata": {},
   "source": [
    "# NLP 2022\n",
    "Hi y'all, this is just a quick test file so you can test if your jupyter notebook is working"
   ]
  }
 ],
 "metadata": {
  "kernelspec": {
   "display_name": "Python 3 (ipykernel)",
   "language": "python",
   "name": "python3"
  },
  "language_info": {
   "codemirror_mode": {
    "name": "ipython",
    "version": 3
   },
   "file_extension": ".py",
   "mimetype": "text/x-python",
   "name": "python",
   "nbconvert_exporter": "python",
   "pygments_lexer": "ipython3",
   "version": "3.10.6"
  }
 },
 "nbformat": 4,
 "nbformat_minor": 5
}
